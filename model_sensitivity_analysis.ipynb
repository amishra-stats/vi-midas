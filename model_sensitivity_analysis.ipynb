{
 "cells": [
  {
   "cell_type": "markdown",
   "metadata": {},
   "source": [
    "# Model Sensitivity Analysis\n",
    "Maximizing the ELBO is a non-convex optimization problem. The parameters estimate are sensitive to the choice of their initial estimates. Hence, we further evaluate the chosen set of hyperparameters for 50 random initialization and then select the best model out of it. \n",
    "\n",
    "Stages of the Analysis\n",
    " + Python script for variational posterior computation: **model_sensitivity_fit.py**\n",
    " + Script to evaluate the model for 50 random initialization: **mem_model_sensitivity**\n",
    " + Analysis of the output based on in sample $LLPD$\n",
    " "
   ]
  },
  {
   "cell_type": "markdown",
   "metadata": {},
   "source": [
    "#### Script to evaluate the model\n",
    "We have saved the command for calling the python script for parameter estimation in the file **mem_model_sensitivity**.\n",
    "\n",
    "A line in the file **mem_model_sensitivity** calls the python script **model_sensitivity_fit.py** for a given choice of the parameters. \n",
    "\n",
    "*module purge ; module load slurm gcc python3 ; omp_num_threads=1 python3 model_sensitivity_fit.py 100.0 50 0.219 0.06503 0.0 50 200 > logfile/50.log 2>&1*"
   ]
  },
  {
   "cell_type": "raw",
   "metadata": {},
   "source": [
    "import numpy as np\n",
    "import pickle\n",
    "outx = pickle.load(open('selected_hyperparam', \"rb\"))\n",
    "hyperparam = outx.iloc[:,range(2,5)]\n",
    "ninit = 50      # number of initialization \n",
    "h_prop = 0.0    # holdout proportion of test sample data to compute LLPD\n",
    "nsample_o = 200 # number of posterior sample \n",
    "\n",
    "command_server = 'module purge ; module load slurm gcc python3 ; omp_num_threads=1 python3 model_sensitivity_fit.py '\n",
    "setting = []; sx = []\n",
    "for hset in range(hyperparam.shape[0]):  \n",
    "   for uid in range(ninit):\n",
    "       [l,s_m, s_v]  = hyperparam.iloc[hset,:]; \n",
    "       sed = ninit*(hset + 1) + uid# (2*uid + 101.)*(2*hset + 101.)\n",
    "       sx.append(sed)\n",
    "       a = command_server + ' '.join(list(map(str, [l,sed,s_m,s_v, h_prop, int(sed), nsample_o])))    \n",
    "       setting.append((a + ' > logfile/{}.log 2>&1').format(int(sed)))\n",
    "       \n",
    "fname = \"mem_model_sensitivity\"\n",
    "with open(fname, 'w') as filehandle:\n",
    "   filehandle.writelines(\"%s\\n\" % place for place in setting)\n"
   ]
  },
  {
   "cell_type": "markdown",
   "metadata": {},
   "source": [
    "#### Parameter estimation \n",
    "We run the script on server using the command:\n",
    "*sbatch -N [#node] -p [#partition] disBatch.py -t [#task on each node] [script_file]*\n",
    "\n",
    "Example: *sbatch -N 2 -p ccm disBatch.py -t 25 mem_model_sensitivity*\n",
    "\n",
    "\n",
    "\n",
    "#### Model output analysis\n",
    "Let us consider out model output is saved in the folder **MMSens**. We load each of the output file, compute the $LLPD$ on  full data and select the model with the largest LLPD. \n"
   ]
  },
  {
   "cell_type": "code",
   "execution_count": 1,
   "metadata": {},
   "outputs": [],
   "source": [
    "# load module \n",
    "import glob\n",
    "import pickle\n",
    "import numpy as np \n",
    "import pandas as pd\n",
    "\n",
    "# Get file name \n",
    "folname = 'MMSens/'\n",
    "fname_o = glob.glob(folname+'*model_nb_cvtest.pkl')\n",
    "fname_x = []\n",
    "for tem in fname_o:\n",
    "    if tem.find('sample') < 0.:\n",
    "        fname_x.append(tem)\n",
    "fname_o = fname_x    \n",
    "#fname_o"
   ]
  },
  {
   "cell_type": "code",
   "execution_count": 2,
   "metadata": {},
   "outputs": [
    {
     "name": "stdout",
     "output_type": "stream",
     "text": [
      "0\n",
      "10\n",
      "20\n",
      "30\n",
      "40\n"
     ]
    }
   ],
   "source": [
    "# Extract model output\n",
    "out = np.empty((len(fname_o),6))\n",
    "for i in range(0,len(fname_o)):\n",
    "    if (i%10) ==0:\n",
    "        print(i)\n",
    "    [holdout_mask, llpd, n_test, l,m_seed,sp_mean,\\\n",
    "                 sp_var, h_prop, uid, nsample_o,\\\n",
    "                 Yte_fit, cv_test] = pickle.load(open(fname_o[i], \"rb\"))\n",
    "    out[i] = [i, l, sp_mean,sp_var,  np.mean(cv_test), np.mean(Yte_fit)]\n",
    "    "
   ]
  },
  {
   "cell_type": "code",
   "execution_count": 3,
   "metadata": {},
   "outputs": [
    {
     "data": {
      "text/html": [
       "<div>\n",
       "<style scoped>\n",
       "    .dataframe tbody tr th:only-of-type {\n",
       "        vertical-align: middle;\n",
       "    }\n",
       "\n",
       "    .dataframe tbody tr th {\n",
       "        vertical-align: top;\n",
       "    }\n",
       "\n",
       "    .dataframe thead th {\n",
       "        text-align: right;\n",
       "    }\n",
       "</style>\n",
       "<table border=\"1\" class=\"dataframe\">\n",
       "  <thead>\n",
       "    <tr style=\"text-align: right;\">\n",
       "      <th></th>\n",
       "      <th>index</th>\n",
       "      <th>rank</th>\n",
       "      <th>lambda</th>\n",
       "      <th>upsilon</th>\n",
       "      <th>llpd</th>\n",
       "      <th>Log-likelihood</th>\n",
       "    </tr>\n",
       "  </thead>\n",
       "  <tbody>\n",
       "    <tr>\n",
       "      <th>0</th>\n",
       "      <td>0.0</td>\n",
       "      <td>200.0</td>\n",
       "      <td>0.246</td>\n",
       "      <td>0.10063</td>\n",
       "      <td>-3.261093</td>\n",
       "      <td>-3.257339</td>\n",
       "    </tr>\n",
       "    <tr>\n",
       "      <th>1</th>\n",
       "      <td>1.0</td>\n",
       "      <td>200.0</td>\n",
       "      <td>0.246</td>\n",
       "      <td>0.10063</td>\n",
       "      <td>-3.261752</td>\n",
       "      <td>-3.260030</td>\n",
       "    </tr>\n",
       "    <tr>\n",
       "      <th>2</th>\n",
       "      <td>2.0</td>\n",
       "      <td>200.0</td>\n",
       "      <td>0.246</td>\n",
       "      <td>0.10063</td>\n",
       "      <td>-3.258982</td>\n",
       "      <td>-3.257405</td>\n",
       "    </tr>\n",
       "    <tr>\n",
       "      <th>3</th>\n",
       "      <td>3.0</td>\n",
       "      <td>200.0</td>\n",
       "      <td>0.246</td>\n",
       "      <td>0.10063</td>\n",
       "      <td>-3.263845</td>\n",
       "      <td>-3.261574</td>\n",
       "    </tr>\n",
       "    <tr>\n",
       "      <th>4</th>\n",
       "      <td>4.0</td>\n",
       "      <td>200.0</td>\n",
       "      <td>0.246</td>\n",
       "      <td>0.10063</td>\n",
       "      <td>-3.262965</td>\n",
       "      <td>-3.261557</td>\n",
       "    </tr>\n",
       "    <tr>\n",
       "      <th>5</th>\n",
       "      <td>5.0</td>\n",
       "      <td>200.0</td>\n",
       "      <td>0.246</td>\n",
       "      <td>0.10063</td>\n",
       "      <td>-3.263984</td>\n",
       "      <td>-3.263250</td>\n",
       "    </tr>\n",
       "    <tr>\n",
       "      <th>6</th>\n",
       "      <td>6.0</td>\n",
       "      <td>200.0</td>\n",
       "      <td>0.246</td>\n",
       "      <td>0.10063</td>\n",
       "      <td>-3.262900</td>\n",
       "      <td>-3.260509</td>\n",
       "    </tr>\n",
       "    <tr>\n",
       "      <th>7</th>\n",
       "      <td>7.0</td>\n",
       "      <td>200.0</td>\n",
       "      <td>0.246</td>\n",
       "      <td>0.10063</td>\n",
       "      <td>-3.265269</td>\n",
       "      <td>-3.263762</td>\n",
       "    </tr>\n",
       "    <tr>\n",
       "      <th>8</th>\n",
       "      <td>8.0</td>\n",
       "      <td>200.0</td>\n",
       "      <td>0.246</td>\n",
       "      <td>0.10063</td>\n",
       "      <td>-3.262861</td>\n",
       "      <td>-3.261591</td>\n",
       "    </tr>\n",
       "    <tr>\n",
       "      <th>9</th>\n",
       "      <td>9.0</td>\n",
       "      <td>200.0</td>\n",
       "      <td>0.246</td>\n",
       "      <td>0.10063</td>\n",
       "      <td>-3.264635</td>\n",
       "      <td>-3.262581</td>\n",
       "    </tr>\n",
       "  </tbody>\n",
       "</table>\n",
       "</div>"
      ],
      "text/plain": [
       "   index   rank  lambda  upsilon      llpd  Log-likelihood\n",
       "0    0.0  200.0   0.246  0.10063 -3.261093       -3.257339\n",
       "1    1.0  200.0   0.246  0.10063 -3.261752       -3.260030\n",
       "2    2.0  200.0   0.246  0.10063 -3.258982       -3.257405\n",
       "3    3.0  200.0   0.246  0.10063 -3.263845       -3.261574\n",
       "4    4.0  200.0   0.246  0.10063 -3.262965       -3.261557\n",
       "5    5.0  200.0   0.246  0.10063 -3.263984       -3.263250\n",
       "6    6.0  200.0   0.246  0.10063 -3.262900       -3.260509\n",
       "7    7.0  200.0   0.246  0.10063 -3.265269       -3.263762\n",
       "8    8.0  200.0   0.246  0.10063 -3.262861       -3.261591\n",
       "9    9.0  200.0   0.246  0.10063 -3.264635       -3.262581"
      ]
     },
     "execution_count": 3,
     "metadata": {},
     "output_type": "execute_result"
    }
   ],
   "source": [
    "pickle.dump(out, open('best_model_selected.pkl','wb'))  # save output \n",
    "out = pickle.load(open('best_model_selected.pkl','rb'))\n",
    "outx = pd.DataFrame(out)\n",
    "outx.columns = ['index','rank','lambda', 'upsilon', 'llpd' ,'Log-likelihood']\n",
    "outx.head(10)"
   ]
  },
  {
   "cell_type": "code",
   "execution_count": 4,
   "metadata": {},
   "outputs": [
    {
     "data": {
      "text/plain": [
       "'MMSens/66_model_nb_cvtest.pkl'"
      ]
     },
     "execution_count": 4,
     "metadata": {},
     "output_type": "execute_result"
    }
   ],
   "source": [
    "# Get the file name and model output from the best model \n",
    "best_setting = outx[outx.iloc[:,4] == outx.iloc[:,4].max()]\n",
    "i = int(best_setting.loc[:,'index'])\n",
    "fname_o[i]"
   ]
  },
  {
   "cell_type": "code",
   "execution_count": 5,
   "metadata": {},
   "outputs": [
    {
     "data": {
      "text/html": [
       "<div>\n",
       "<style scoped>\n",
       "    .dataframe tbody tr th:only-of-type {\n",
       "        vertical-align: middle;\n",
       "    }\n",
       "\n",
       "    .dataframe tbody tr th {\n",
       "        vertical-align: top;\n",
       "    }\n",
       "\n",
       "    .dataframe thead th {\n",
       "        text-align: right;\n",
       "    }\n",
       "</style>\n",
       "<table border=\"1\" class=\"dataframe\">\n",
       "  <thead>\n",
       "    <tr style=\"text-align: right;\">\n",
       "      <th></th>\n",
       "      <th>index</th>\n",
       "      <th>rank</th>\n",
       "      <th>lambda</th>\n",
       "      <th>upsilon</th>\n",
       "      <th>llpd</th>\n",
       "      <th>Log-likelihood</th>\n",
       "    </tr>\n",
       "  </thead>\n",
       "  <tbody>\n",
       "    <tr>\n",
       "      <th>2</th>\n",
       "      <td>2.0</td>\n",
       "      <td>200.0</td>\n",
       "      <td>0.246</td>\n",
       "      <td>0.10063</td>\n",
       "      <td>-3.258982</td>\n",
       "      <td>-3.257405</td>\n",
       "    </tr>\n",
       "  </tbody>\n",
       "</table>\n",
       "</div>"
      ],
      "text/plain": [
       "   index   rank  lambda  upsilon      llpd  Log-likelihood\n",
       "2    2.0  200.0   0.246  0.10063 -3.258982       -3.257405"
      ]
     },
     "execution_count": 5,
     "metadata": {},
     "output_type": "execute_result"
    }
   ],
   "source": [
    "best_setting"
   ]
  },
  {
   "cell_type": "markdown",
   "metadata": {},
   "source": [
    "<font color=blue>**Our analysis suggest that MEM with seed 66 is most appropriate with highest full data LLPD.** </font>"
   ]
  },
  {
   "cell_type": "code",
   "execution_count": null,
   "metadata": {},
   "outputs": [],
   "source": []
  }
 ],
 "metadata": {
  "kernelspec": {
   "display_name": "Python 3 (python3/3.7.3)",
   "language": "python",
   "name": "module-python3-3.7.3-python3"
  },
  "language_info": {
   "codemirror_mode": {
    "name": "ipython",
    "version": 3
   },
   "file_extension": ".py",
   "mimetype": "text/x-python",
   "name": "python",
   "nbconvert_exporter": "python",
   "pygments_lexer": "ipython3",
   "version": "3.7.3"
  }
 },
 "nbformat": 4,
 "nbformat_minor": 4
}
